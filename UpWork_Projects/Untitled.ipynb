{
 "cells": [
  {
   "cell_type": "code",
   "execution_count": null,
   "metadata": {},
   "outputs": [],
   "source": [
    "import pandas as pd\n",
    "\n",
    "\n",
    "df = pd.read_excel(\"D:/sipun/test.xlsx\")\n",
    "no_of_rows = 50\n",
    "start_position = 1\n",
    "end_position = 0\n",
    "#df = pd.read_excel(\"D:/sipun/test.xlsx\", header=None, skiprows=1)\n",
    "df_columnNames = df[0:0]\n",
    "df_rows = df.shape[0]\n",
    "no_of_files = df_rows//no_of_rows\n",
    "if df_rows%no_of_rows != 0:\n",
    "    no_of_files += 1\n",
    "for i in range(1,no_of_files+1):\n",
    "    end_positon += no_of_rows\n",
    "    df_split_data = df[start_position:end_positon]\n",
    "    frames = [df_columnNames, df_split_data]\n",
    "    result = pd.concat(frames)\n",
    "    start_position += no_of_rows\n",
    "    print(result)\n",
    "    print(\"_________________________________________________\\n\")"
   ]
  },
  {
   "cell_type": "code",
   "execution_count": 1,
   "metadata": {},
   "outputs": [
    {
     "data": {
      "text/plain": [
       "200"
      ]
     },
     "execution_count": 1,
     "metadata": {},
     "output_type": "execute_result"
    }
   ],
   "source": [
    "import pandas as pd\n",
    "\n",
    "\n",
    "df = pd.read_excel(\"D:/sipun/test.xlsx\")\n",
    "df.shape[0]"
   ]
  },
  {
   "cell_type": "code",
   "execution_count": null,
   "metadata": {},
   "outputs": [],
   "source": []
  }
 ],
 "metadata": {
  "kernelspec": {
   "display_name": "Python 3",
   "language": "python",
   "name": "python3"
  },
  "language_info": {
   "codemirror_mode": {
    "name": "ipython",
    "version": 3
   },
   "file_extension": ".py",
   "mimetype": "text/x-python",
   "name": "python",
   "nbconvert_exporter": "python",
   "pygments_lexer": "ipython3",
   "version": "3.7.2"
  }
 },
 "nbformat": 4,
 "nbformat_minor": 4
}
